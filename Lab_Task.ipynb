{
 "cells": [
  {
   "cell_type": "code",
   "execution_count": 1,
   "id": "adc860e0",
   "metadata": {},
   "outputs": [],
   "source": [
    "import pandas as pd"
   ]
  },
  {
   "cell_type": "code",
   "execution_count": 2,
   "id": "71f30cf8",
   "metadata": {},
   "outputs": [],
   "source": [
    "import numpy as np"
   ]
  },
  {
   "cell_type": "code",
   "execution_count": 3,
   "id": "c9f361a5",
   "metadata": {},
   "outputs": [],
   "source": [
    "df = pd.read_csv(\"fruit_data_with_colors.txt\", delimiter = '\\t')"
   ]
  },
  {
   "cell_type": "code",
   "execution_count": 4,
   "id": "0780ccc5",
   "metadata": {},
   "outputs": [
    {
     "data": {
      "text/html": [
       "<div>\n",
       "<style scoped>\n",
       "    .dataframe tbody tr th:only-of-type {\n",
       "        vertical-align: middle;\n",
       "    }\n",
       "\n",
       "    .dataframe tbody tr th {\n",
       "        vertical-align: top;\n",
       "    }\n",
       "\n",
       "    .dataframe thead th {\n",
       "        text-align: right;\n",
       "    }\n",
       "</style>\n",
       "<table border=\"1\" class=\"dataframe\">\n",
       "  <thead>\n",
       "    <tr style=\"text-align: right;\">\n",
       "      <th></th>\n",
       "      <th>fruit_label</th>\n",
       "      <th>fruit_name</th>\n",
       "      <th>fruit_subtype</th>\n",
       "      <th>mass</th>\n",
       "      <th>width</th>\n",
       "      <th>height</th>\n",
       "      <th>color_score</th>\n",
       "    </tr>\n",
       "  </thead>\n",
       "  <tbody>\n",
       "    <tr>\n",
       "      <th>0</th>\n",
       "      <td>1</td>\n",
       "      <td>apple</td>\n",
       "      <td>granny_smith</td>\n",
       "      <td>192</td>\n",
       "      <td>8.4</td>\n",
       "      <td>7.3</td>\n",
       "      <td>0.55</td>\n",
       "    </tr>\n",
       "    <tr>\n",
       "      <th>1</th>\n",
       "      <td>1</td>\n",
       "      <td>apple</td>\n",
       "      <td>granny_smith</td>\n",
       "      <td>180</td>\n",
       "      <td>8.0</td>\n",
       "      <td>6.8</td>\n",
       "      <td>0.59</td>\n",
       "    </tr>\n",
       "    <tr>\n",
       "      <th>2</th>\n",
       "      <td>1</td>\n",
       "      <td>apple</td>\n",
       "      <td>granny_smith</td>\n",
       "      <td>176</td>\n",
       "      <td>7.4</td>\n",
       "      <td>7.2</td>\n",
       "      <td>0.60</td>\n",
       "    </tr>\n",
       "    <tr>\n",
       "      <th>3</th>\n",
       "      <td>2</td>\n",
       "      <td>mandarin</td>\n",
       "      <td>mandarin</td>\n",
       "      <td>86</td>\n",
       "      <td>6.2</td>\n",
       "      <td>4.7</td>\n",
       "      <td>0.80</td>\n",
       "    </tr>\n",
       "    <tr>\n",
       "      <th>4</th>\n",
       "      <td>2</td>\n",
       "      <td>mandarin</td>\n",
       "      <td>mandarin</td>\n",
       "      <td>84</td>\n",
       "      <td>6.0</td>\n",
       "      <td>4.6</td>\n",
       "      <td>0.79</td>\n",
       "    </tr>\n",
       "    <tr>\n",
       "      <th>5</th>\n",
       "      <td>2</td>\n",
       "      <td>mandarin</td>\n",
       "      <td>mandarin</td>\n",
       "      <td>80</td>\n",
       "      <td>5.8</td>\n",
       "      <td>4.3</td>\n",
       "      <td>0.77</td>\n",
       "    </tr>\n",
       "    <tr>\n",
       "      <th>6</th>\n",
       "      <td>2</td>\n",
       "      <td>mandarin</td>\n",
       "      <td>mandarin</td>\n",
       "      <td>80</td>\n",
       "      <td>5.9</td>\n",
       "      <td>4.3</td>\n",
       "      <td>0.81</td>\n",
       "    </tr>\n",
       "    <tr>\n",
       "      <th>7</th>\n",
       "      <td>2</td>\n",
       "      <td>mandarin</td>\n",
       "      <td>mandarin</td>\n",
       "      <td>76</td>\n",
       "      <td>5.8</td>\n",
       "      <td>4.0</td>\n",
       "      <td>0.81</td>\n",
       "    </tr>\n",
       "    <tr>\n",
       "      <th>8</th>\n",
       "      <td>1</td>\n",
       "      <td>apple</td>\n",
       "      <td>braeburn</td>\n",
       "      <td>178</td>\n",
       "      <td>7.1</td>\n",
       "      <td>7.8</td>\n",
       "      <td>0.92</td>\n",
       "    </tr>\n",
       "    <tr>\n",
       "      <th>9</th>\n",
       "      <td>1</td>\n",
       "      <td>apple</td>\n",
       "      <td>braeburn</td>\n",
       "      <td>172</td>\n",
       "      <td>7.4</td>\n",
       "      <td>7.0</td>\n",
       "      <td>0.89</td>\n",
       "    </tr>\n",
       "  </tbody>\n",
       "</table>\n",
       "</div>"
      ],
      "text/plain": [
       "   fruit_label fruit_name fruit_subtype  mass  width  height  color_score\n",
       "0            1      apple  granny_smith   192    8.4     7.3         0.55\n",
       "1            1      apple  granny_smith   180    8.0     6.8         0.59\n",
       "2            1      apple  granny_smith   176    7.4     7.2         0.60\n",
       "3            2   mandarin      mandarin    86    6.2     4.7         0.80\n",
       "4            2   mandarin      mandarin    84    6.0     4.6         0.79\n",
       "5            2   mandarin      mandarin    80    5.8     4.3         0.77\n",
       "6            2   mandarin      mandarin    80    5.9     4.3         0.81\n",
       "7            2   mandarin      mandarin    76    5.8     4.0         0.81\n",
       "8            1      apple      braeburn   178    7.1     7.8         0.92\n",
       "9            1      apple      braeburn   172    7.4     7.0         0.89"
      ]
     },
     "execution_count": 4,
     "metadata": {},
     "output_type": "execute_result"
    }
   ],
   "source": [
    "df.head(10)"
   ]
  },
  {
   "cell_type": "code",
   "execution_count": 5,
   "id": "378046fb",
   "metadata": {},
   "outputs": [],
   "source": [
    "X = df.drop(columns = [\"fruit_name\", \"fruit_label\",\"fruit_subtype\"],axis = \"column\")"
   ]
  },
  {
   "cell_type": "code",
   "execution_count": 6,
   "id": "9cb16b14",
   "metadata": {},
   "outputs": [
    {
     "data": {
      "text/html": [
       "<div>\n",
       "<style scoped>\n",
       "    .dataframe tbody tr th:only-of-type {\n",
       "        vertical-align: middle;\n",
       "    }\n",
       "\n",
       "    .dataframe tbody tr th {\n",
       "        vertical-align: top;\n",
       "    }\n",
       "\n",
       "    .dataframe thead th {\n",
       "        text-align: right;\n",
       "    }\n",
       "</style>\n",
       "<table border=\"1\" class=\"dataframe\">\n",
       "  <thead>\n",
       "    <tr style=\"text-align: right;\">\n",
       "      <th></th>\n",
       "      <th>mass</th>\n",
       "      <th>width</th>\n",
       "      <th>height</th>\n",
       "      <th>color_score</th>\n",
       "    </tr>\n",
       "  </thead>\n",
       "  <tbody>\n",
       "    <tr>\n",
       "      <th>0</th>\n",
       "      <td>192</td>\n",
       "      <td>8.4</td>\n",
       "      <td>7.3</td>\n",
       "      <td>0.55</td>\n",
       "    </tr>\n",
       "    <tr>\n",
       "      <th>1</th>\n",
       "      <td>180</td>\n",
       "      <td>8.0</td>\n",
       "      <td>6.8</td>\n",
       "      <td>0.59</td>\n",
       "    </tr>\n",
       "    <tr>\n",
       "      <th>2</th>\n",
       "      <td>176</td>\n",
       "      <td>7.4</td>\n",
       "      <td>7.2</td>\n",
       "      <td>0.60</td>\n",
       "    </tr>\n",
       "    <tr>\n",
       "      <th>3</th>\n",
       "      <td>86</td>\n",
       "      <td>6.2</td>\n",
       "      <td>4.7</td>\n",
       "      <td>0.80</td>\n",
       "    </tr>\n",
       "    <tr>\n",
       "      <th>4</th>\n",
       "      <td>84</td>\n",
       "      <td>6.0</td>\n",
       "      <td>4.6</td>\n",
       "      <td>0.79</td>\n",
       "    </tr>\n",
       "  </tbody>\n",
       "</table>\n",
       "</div>"
      ],
      "text/plain": [
       "   mass  width  height  color_score\n",
       "0   192    8.4     7.3         0.55\n",
       "1   180    8.0     6.8         0.59\n",
       "2   176    7.4     7.2         0.60\n",
       "3    86    6.2     4.7         0.80\n",
       "4    84    6.0     4.6         0.79"
      ]
     },
     "execution_count": 6,
     "metadata": {},
     "output_type": "execute_result"
    }
   ],
   "source": [
    "X.head()"
   ]
  },
  {
   "cell_type": "code",
   "execution_count": null,
   "id": "015d377a",
   "metadata": {},
   "outputs": [],
   "source": []
  },
  {
   "cell_type": "code",
   "execution_count": 8,
   "id": "c96fe695",
   "metadata": {},
   "outputs": [],
   "source": [
    "Y = df[\"fruit_label\"]"
   ]
  },
  {
   "cell_type": "code",
   "execution_count": 9,
   "id": "4d64f632",
   "metadata": {},
   "outputs": [
    {
     "data": {
      "text/plain": [
       "0    1\n",
       "1    1\n",
       "2    1\n",
       "3    2\n",
       "4    2\n",
       "Name: fruit_label, dtype: int64"
      ]
     },
     "execution_count": 9,
     "metadata": {},
     "output_type": "execute_result"
    }
   ],
   "source": [
    "Y.head()"
   ]
  },
  {
   "cell_type": "code",
   "execution_count": 10,
   "id": "7a7808d2",
   "metadata": {},
   "outputs": [],
   "source": [
    "trainX = np.array(X[:50])\n",
    "trainY = np.array(Y[:50])\n",
    "testX = np.array(X[50:])\n",
    "testY = np.array(Y[50:])"
   ]
  },
  {
   "cell_type": "code",
   "execution_count": 11,
   "id": "1e95414d",
   "metadata": {},
   "outputs": [
    {
     "data": {
      "text/plain": [
       "array([[1.92e+02, 8.40e+00, 7.30e+00, 5.50e-01],\n",
       "       [1.80e+02, 8.00e+00, 6.80e+00, 5.90e-01],\n",
       "       [1.76e+02, 7.40e+00, 7.20e+00, 6.00e-01],\n",
       "       [8.60e+01, 6.20e+00, 4.70e+00, 8.00e-01],\n",
       "       [8.40e+01, 6.00e+00, 4.60e+00, 7.90e-01],\n",
       "       [8.00e+01, 5.80e+00, 4.30e+00, 7.70e-01],\n",
       "       [8.00e+01, 5.90e+00, 4.30e+00, 8.10e-01],\n",
       "       [7.60e+01, 5.80e+00, 4.00e+00, 8.10e-01],\n",
       "       [1.78e+02, 7.10e+00, 7.80e+00, 9.20e-01],\n",
       "       [1.72e+02, 7.40e+00, 7.00e+00, 8.90e-01],\n",
       "       [1.66e+02, 6.90e+00, 7.30e+00, 9.30e-01],\n",
       "       [1.72e+02, 7.10e+00, 7.60e+00, 9.20e-01],\n",
       "       [1.54e+02, 7.00e+00, 7.10e+00, 8.80e-01],\n",
       "       [1.64e+02, 7.30e+00, 7.70e+00, 7.00e-01],\n",
       "       [1.52e+02, 7.60e+00, 7.30e+00, 6.90e-01],\n",
       "       [1.56e+02, 7.70e+00, 7.10e+00, 6.90e-01],\n",
       "       [1.00e+03, 7.60e+00, 7.50e+00, 6.70e-01],\n",
       "       [1.68e+02, 7.50e+00, 7.60e+00, 7.30e-01],\n",
       "       [1.62e+02, 7.50e+00, 7.10e+00, 8.30e-01],\n",
       "       [1.62e+02, 7.40e+00, 7.20e+00, 8.50e-01],\n",
       "       [1.60e+02, 7.50e+00, 7.50e+00, 8.60e-01],\n",
       "       [1.56e+02, 7.40e+00, 7.40e+00, 8.40e-01],\n",
       "       [1.40e+02, 7.30e+00, 7.10e+00, 8.70e-01],\n",
       "       [1.70e+02, 7.60e+00, 7.90e+00, 8.80e-01],\n",
       "       [3.42e+02, 9.00e+00, 9.40e+00, 7.50e-01],\n",
       "       [3.56e+02, 9.20e+00, 9.20e+00, 7.50e-01],\n",
       "       [3.62e+02, 9.60e+00, 9.20e+00, 7.40e-01],\n",
       "       [2.04e+02, 7.50e+00, 9.20e+00, 7.70e-01],\n",
       "       [1.40e+02, 6.70e+00, 7.10e+00, 7.20e-01],\n",
       "       [1.60e+02, 7.00e+00, 7.40e+00, 8.10e-01],\n",
       "       [1.58e+02, 7.10e+00, 7.50e+00, 7.90e-01],\n",
       "       [2.10e+02, 7.80e+00, 8.00e+00, 8.20e-01],\n",
       "       [1.64e+02, 7.20e+00, 7.00e+00, 8.00e-01],\n",
       "       [1.90e+02, 7.50e+00, 8.10e+00, 7.40e-01],\n",
       "       [1.42e+02, 7.60e+00, 7.80e+00, 7.50e-01],\n",
       "       [1.50e+02, 7.10e+00, 7.90e+00, 7.50e-01],\n",
       "       [1.60e+02, 7.10e+00, 7.60e+00, 7.60e-01],\n",
       "       [1.54e+02, 7.30e+00, 7.30e+00, 7.90e-01],\n",
       "       [1.58e+02, 7.20e+00, 7.80e+00, 7.70e-01],\n",
       "       [1.54e+02, 7.30e+00, 7.50e+00, 7.60e-01],\n",
       "       [3.00e+04, 7.10e+00, 7.50e+00, 7.80e-01],\n",
       "       [1.80e+02, 7.60e+00, 8.20e+00, 7.90e-01],\n",
       "       [1.54e+02, 7.20e+00, 7.20e+00, 8.20e-01],\n",
       "       [1.94e+02, 7.20e+00, 1.03e+01, 7.00e-01],\n",
       "       [2.00e+02, 7.30e+00, 1.05e+01, 7.20e-01],\n",
       "       [1.86e+02, 7.20e+00, 9.20e+00, 7.20e-01],\n",
       "       [2.16e+02, 7.30e+00, 1.02e+01, 7.10e-01],\n",
       "       [1.96e+02, 7.30e+00, 9.70e+00, 7.20e-01],\n",
       "       [1.74e+02, 7.30e+00, 1.01e+01, 7.20e-01],\n",
       "       [1.32e+02, 5.80e+00, 8.70e+00, 7.30e-01]])"
      ]
     },
     "execution_count": 11,
     "metadata": {},
     "output_type": "execute_result"
    }
   ],
   "source": [
    "trainX"
   ]
  },
  {
   "cell_type": "code",
   "execution_count": 12,
   "id": "8fb6e1bc",
   "metadata": {},
   "outputs": [],
   "source": [
    "class KNN:\n",
    "    def __init__(self,k = 1):\n",
    "        self.k = k\n",
    "        \n",
    "    def euclidian_distance(self,query,X):\n",
    "        difference = np.array(X) - np.array(query)\n",
    "        sqrd_diff = np.square(difference)\n",
    "        sum_sqrd_diff = np.sum(sqrd_diff, axis = 1)\n",
    "        distance = np.sqrt(sum_sqrd_diff)\n",
    "        return distance\n",
    "    \n",
    "    def nearest_neighbours(self,distance):\n",
    "        return np.argsort(distance)[:self.k]\n",
    "    \n",
    "    def predict(self,query,trainX,trainY):\n",
    "        ed = self.euclidian_distance(query,trainX)\n",
    "        nn = self.nearest_neighbours(ed)\n",
    "        labels_nn = list(trainY[nn])\n",
    "        return max(labels_nn, key = labels_nn.count) \n",
    "    "
   ]
  },
  {
   "cell_type": "code",
   "execution_count": 43,
   "id": "ee93eda1",
   "metadata": {},
   "outputs": [],
   "source": [
    "classifier = KNN(2)"
   ]
  },
  {
   "cell_type": "code",
   "execution_count": 44,
   "id": "18d69d72",
   "metadata": {},
   "outputs": [],
   "source": [
    "predictions = [classifier.predict(x,trainX,trainY) for x in testX]"
   ]
  },
  {
   "cell_type": "code",
   "execution_count": 45,
   "id": "713a1459",
   "metadata": {},
   "outputs": [
    {
     "data": {
      "text/plain": [
       "[4, 4, 4, 4, 4, 4, 4, 1, 4]"
      ]
     },
     "execution_count": 45,
     "metadata": {},
     "output_type": "execute_result"
    }
   ],
   "source": [
    "predictions"
   ]
  },
  {
   "cell_type": "code",
   "execution_count": 46,
   "id": "70d1ea56",
   "metadata": {},
   "outputs": [
    {
     "data": {
      "text/plain": [
       "array([4, 4, 4, 4, 4, 4, 4, 4, 4], dtype=int64)"
      ]
     },
     "execution_count": 46,
     "metadata": {},
     "output_type": "execute_result"
    }
   ],
   "source": [
    "testY"
   ]
  },
  {
   "cell_type": "code",
   "execution_count": 47,
   "id": "ce55d5e7",
   "metadata": {},
   "outputs": [],
   "source": [
    "from sklearn.metrics import accuracy_score\n",
    "accuracy = accuracy_score(testY,predictions)"
   ]
  },
  {
   "cell_type": "code",
   "execution_count": 48,
   "id": "d33a96a8",
   "metadata": {},
   "outputs": [
    {
     "data": {
      "text/plain": [
       "0.8888888888888888"
      ]
     },
     "execution_count": 48,
     "metadata": {},
     "output_type": "execute_result"
    }
   ],
   "source": [
    "accuracy"
   ]
  },
  {
   "cell_type": "code",
   "execution_count": null,
   "id": "26059113",
   "metadata": {},
   "outputs": [],
   "source": []
  },
  {
   "cell_type": "code",
   "execution_count": null,
   "id": "e70dc716",
   "metadata": {},
   "outputs": [],
   "source": []
  }
 ],
 "metadata": {
  "kernelspec": {
   "display_name": "Python 3 (ipykernel)",
   "language": "python",
   "name": "python3"
  },
  "language_info": {
   "codemirror_mode": {
    "name": "ipython",
    "version": 3
   },
   "file_extension": ".py",
   "mimetype": "text/x-python",
   "name": "python",
   "nbconvert_exporter": "python",
   "pygments_lexer": "ipython3",
   "version": "3.9.12"
  }
 },
 "nbformat": 4,
 "nbformat_minor": 5
}
